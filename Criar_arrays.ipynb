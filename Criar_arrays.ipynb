{
  "nbformat": 4,
  "nbformat_minor": 0,
  "metadata": {
    "colab": {
      "name": "Criar-arrays.ipynb",
      "provenance": [],
      "authorship_tag": "ABX9TyNnDSWExplmzzeKFGYM8Wgy",
      "include_colab_link": true
    },
    "kernelspec": {
      "name": "python3",
      "display_name": "Python 3"
    }
  },
  "cells": [
    {
      "cell_type": "markdown",
      "metadata": {
        "id": "view-in-github",
        "colab_type": "text"
      },
      "source": [
        "<a href=\"https://colab.research.google.com/github/douglaseaf15/Numpy-Python/blob/master/Criar_arrays.ipynb\" target=\"_parent\"><img src=\"https://colab.research.google.com/assets/colab-badge.svg\" alt=\"Open In Colab\"/></a>"
      ]
    },
    {
      "cell_type": "markdown",
      "metadata": {
        "id": "ZxoSBO3IGxjA",
        "colab_type": "text"
      },
      "source": [
        "# Create arrays"
      ]
    },
    {
      "cell_type": "code",
      "metadata": {
        "id": "ErmzqWC3GV0-",
        "colab_type": "code",
        "colab": {}
      },
      "source": [
        "import numpy as np"
      ],
      "execution_count": 0,
      "outputs": []
    },
    {
      "cell_type": "code",
      "metadata": {
        "id": "NrWt_AHJHqR4",
        "colab_type": "code",
        "colab": {
          "base_uri": "https://localhost:8080/",
          "height": 34
        },
        "outputId": "6d33246d-4e4f-4fac-ca19-de5d5916dc4d"
      },
      "source": [
        "%reset"
      ],
      "execution_count": 11,
      "outputs": [
        {
          "output_type": "stream",
          "text": [
            "Once deleted, variables cannot be recovered. Proceed (y/[n])? y\n"
          ],
          "name": "stdout"
        }
      ]
    },
    {
      "cell_type": "markdown",
      "metadata": {
        "id": "rgxFU_vPILU0",
        "colab_type": "text"
      },
      "source": [
        "# Create ndarrays from lists. note: every element must be the same type (will be converted if possible)\n"
      ]
    },
    {
      "cell_type": "code",
      "metadata": {
        "id": "MGZR5Yg7G31A",
        "colab_type": "code",
        "colab": {}
      },
      "source": [
        "data1 = [1, 2, 3, 4, 5] # list\n"
      ],
      "execution_count": 0,
      "outputs": []
    },
    {
      "cell_type": "code",
      "metadata": {
        "id": "mXYw6CcUHHJW",
        "colab_type": "code",
        "colab": {}
      },
      "source": [
        "arr1 = np.array(data1) # 1d array\n"
      ],
      "execution_count": 0,
      "outputs": []
    },
    {
      "cell_type": "code",
      "metadata": {
        "id": "FKyJkZ2GHk3w",
        "colab_type": "code",
        "colab": {}
      },
      "source": [
        "data2 = [range(1, 5), range(5, 9)] # list of lists\n"
      ],
      "execution_count": 0,
      "outputs": []
    },
    {
      "cell_type": "code",
      "metadata": {
        "id": "rj_Z0_AxHmYE",
        "colab_type": "code",
        "colab": {}
      },
      "source": [
        "arr2 = np.array(data2) # 2d array\n"
      ],
      "execution_count": 0,
      "outputs": []
    },
    {
      "cell_type": "code",
      "metadata": {
        "id": "0PS97uGnHn1_",
        "colab_type": "code",
        "colab": {}
      },
      "source": [
        "arr3  = arr2.tolist() # convert array back to list"
      ],
      "execution_count": 0,
      "outputs": []
    },
    {
      "cell_type": "markdown",
      "metadata": {
        "id": "QYUOW1Q0IHje",
        "colab_type": "text"
      },
      "source": [
        "#create special arrays"
      ]
    },
    {
      "cell_type": "code",
      "metadata": {
        "id": "VIvnsqt7ITNY",
        "colab_type": "code",
        "colab": {
          "base_uri": "https://localhost:8080/",
          "height": 34
        },
        "outputId": "75b19f24-d946-422c-b713-c3b779f50216"
      },
      "source": [
        "np.zeros(10)\n"
      ],
      "execution_count": 24,
      "outputs": [
        {
          "output_type": "execute_result",
          "data": {
            "text/plain": [
              "array([0., 0., 0., 0., 0., 0., 0., 0., 0., 0.])"
            ]
          },
          "metadata": {
            "tags": []
          },
          "execution_count": 24
        }
      ]
    },
    {
      "cell_type": "code",
      "metadata": {
        "id": "We7HXe7ZIXn-",
        "colab_type": "code",
        "colab": {
          "base_uri": "https://localhost:8080/",
          "height": 68
        },
        "outputId": "835ed1d1-80cd-4403-b6b5-8fe05604a8df"
      },
      "source": [
        "np.zeros((3, 6))\n"
      ],
      "execution_count": 25,
      "outputs": [
        {
          "output_type": "execute_result",
          "data": {
            "text/plain": [
              "array([[0., 0., 0., 0., 0., 0.],\n",
              "       [0., 0., 0., 0., 0., 0.],\n",
              "       [0., 0., 0., 0., 0., 0.]])"
            ]
          },
          "metadata": {
            "tags": []
          },
          "execution_count": 25
        }
      ]
    },
    {
      "cell_type": "code",
      "metadata": {
        "id": "LVFei9lBIXtn",
        "colab_type": "code",
        "colab": {
          "base_uri": "https://localhost:8080/",
          "height": 34
        },
        "outputId": "ae99a609-26e9-4ae8-89b2-cc86fd79d154"
      },
      "source": [
        "np.ones(10)\n"
      ],
      "execution_count": 26,
      "outputs": [
        {
          "output_type": "execute_result",
          "data": {
            "text/plain": [
              "array([1., 1., 1., 1., 1., 1., 1., 1., 1., 1.])"
            ]
          },
          "metadata": {
            "tags": []
          },
          "execution_count": 26
        }
      ]
    },
    {
      "cell_type": "code",
      "metadata": {
        "id": "8dDeqCF-IXxy",
        "colab_type": "code",
        "colab": {
          "base_uri": "https://localhost:8080/",
          "height": 34
        },
        "outputId": "d8543192-693a-4919-8cd7-b688ae575f4b"
      },
      "source": [
        "np.linspace(0, 1, 5) # 0 to 1 (inclusive) with 5 points\n"
      ],
      "execution_count": 27,
      "outputs": [
        {
          "output_type": "execute_result",
          "data": {
            "text/plain": [
              "array([0.  , 0.25, 0.5 , 0.75, 1.  ])"
            ]
          },
          "metadata": {
            "tags": []
          },
          "execution_count": 27
        }
      ]
    },
    {
      "cell_type": "code",
      "metadata": {
        "id": "cv1OlMxUIX3n",
        "colab_type": "code",
        "colab": {
          "base_uri": "https://localhost:8080/",
          "height": 34
        },
        "outputId": "a0917f8c-fe9a-4771-ffc5-0ebf06e23952"
      },
      "source": [
        "np.logspace(0, 3, 4) # 10^0 to 10^3 (inclusive) with 4 points"
      ],
      "execution_count": 30,
      "outputs": [
        {
          "output_type": "execute_result",
          "data": {
            "text/plain": [
              "array([   1.,   10.,  100., 1000.])"
            ]
          },
          "metadata": {
            "tags": []
          },
          "execution_count": 30
        }
      ]
    },
    {
      "cell_type": "markdown",
      "metadata": {
        "id": "aP57mhnAIu28",
        "colab_type": "text"
      },
      "source": [
        "# arange is like range, except it returns an array (not a list)"
      ]
    },
    {
      "cell_type": "code",
      "metadata": {
        "id": "JglPc-5HIX7r",
        "colab_type": "code",
        "colab": {}
      },
      "source": [
        "int_array = np.arange(5)\n"
      ],
      "execution_count": 0,
      "outputs": []
    },
    {
      "cell_type": "code",
      "metadata": {
        "id": "Kv04EPNxIX1l",
        "colab_type": "code",
        "colab": {}
      },
      "source": [
        "float_array = int_array.astype(float)\n"
      ],
      "execution_count": 0,
      "outputs": []
    }
  ]
}